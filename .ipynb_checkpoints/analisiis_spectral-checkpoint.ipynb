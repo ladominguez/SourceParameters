{
 "cells": [
  {
   "cell_type": "markdown",
   "id": "7340c224",
   "metadata": {},
   "source": [
    "<img src='./cover.png' />\n",
    "\n",
    "\n",
    "# Misión\n",
    "\n",
    "Calcular el espectro de una señal y estimar el momento sísmico y la caida de esfuerzos. En este programa vamos a analizar el sismo ocurrido en Acapulco, el 7 de septiembre del 2021.\n",
    "\n",
    "**Fecha:** 2021-09-07 <br>\n",
    "**Hora:** 20:47:46<br>\n",
    "**Magnitud:** 7.1<br>\n",
    "**Epicentro**<br>\n",
    "**Latitud:** 16.7553 °<br>\n",
    "**Longitud:** -99.9533 °<br>\n",
    "**Localización:** 4 km al SUROESTE de ACAPULCO, GRO<br>\n",
    "**Profundidad:** 15 km<br>\n",
    "\n",
    "# Instalación\n",
    "\n",
    "1. Descarga la versión de Miniconda más reciente para el sistema operativo que estes utilizando. https://repo.anaconda.com/miniconda/\n",
    "2. Crea un ambiente de programación llamado ```obspy``` y agrega las librerias ```obspy``` y ```mtspec```.\n",
    "```python\n",
    "conda create --name obspy python=3.7\n",
    "conda activate obspy\n",
    "conda install numpy\n",
    "conda install -c conda-forge obspy\n",
    "conda install -c conda-forge mtspec\n",
    "conda install -c anaconda ipykernel\n",
    "python -m ipykernel install --user --name=obspy\n",
    "conda install -c conda-forge notebook\n",
    "```\n",
    "Verifica que funcione adecuadamente, cuando las intentes cargar en Python de la siguiente forma.\n",
    "```\n",
    "python\n",
    ">>> import obspy\n",
    ">>> import mtspec\n",
    "```\n",
    "Si los comandos corren sin producir ningún error, significa que se instalaron correctamente. Por lo que la primera celda de este cuaderno debería de correr sin problemas. Para abrir este cuaderno de Jupyter ejecuta ***(desde el directorio donde lo descargaste)*** la terminal el comando,\n",
    "```jupyter notebook```\n",
    "Esto abrirá una pestaña nueva en tu navegador predeterminado. Es posible que necesites cambiar el kernel, una vez abierto el cuaderno en el menu de **Kernel**, selecciona la opción de ***Change kernel*** y da clic en **Obspy**\n"
   ]
  },
  {
   "cell_type": "code",
   "execution_count": 1,
   "id": "8c3af30f",
   "metadata": {},
   "outputs": [],
   "source": [
    "import mtspec\n",
    "import obspy"
   ]
  },
  {
   "cell_type": "markdown",
   "id": "a5ddc82e",
   "metadata": {},
   "source": [
    "# Introducción\n",
    "Una señal seismica se puede escribir como \n",
    "$$a=b$$\n"
   ]
  },
  {
   "cell_type": "code",
   "execution_count": null,
   "id": "b9f00c11",
   "metadata": {},
   "outputs": [],
   "source": []
  }
 ],
 "metadata": {
  "kernelspec": {
   "display_name": "obspy",
   "language": "python",
   "name": "obspy"
  },
  "language_info": {
   "codemirror_mode": {
    "name": "ipython",
    "version": 3
   },
   "file_extension": ".py",
   "mimetype": "text/x-python",
   "name": "python",
   "nbconvert_exporter": "python",
   "pygments_lexer": "ipython3",
   "version": "3.7.13"
  }
 },
 "nbformat": 4,
 "nbformat_minor": 5
}
